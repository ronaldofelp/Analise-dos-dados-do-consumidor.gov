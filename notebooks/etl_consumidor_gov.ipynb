{
 "cells": [
  {
   "cell_type": "markdown",
   "metadata": {},
   "source": [
    "# ETL das reclamações da plataforma Consumidor.gov.\n",
    "\n",
    "Este notebook contém as manipulações responsáveis pela limpeza (ou não) e adequação dos dados para facilitar a retirada de insights do dataset.\n",
    "\n",
    "Os dados foram baixados de: https://www.consumidor.gov.br/pages/dadosabertos/externo/"
   ]
  },
  {
   "cell_type": "markdown",
   "metadata": {},
   "source": [
    "## Conhecendo o dataset"
   ]
  },
  {
   "cell_type": "markdown",
   "metadata": {},
   "source": [
    "O primeiro passo será importar a biblioteca  pandas, usada para manipulação, limpeza e análise de dados. "
   ]
  },
  {
   "cell_type": "code",
   "execution_count": 43,
   "metadata": {},
   "outputs": [],
   "source": [
    "\n",
    "import pandas as pd\n"
   ]
  },
  {
   "cell_type": "markdown",
   "metadata": {},
   "source": [
    "Após isso, é necessário carregar as informações de Janeiro a Junho de 2024. "
   ]
  },
  {
   "cell_type": "code",
   "execution_count": 44,
   "metadata": {},
   "outputs": [],
   "source": [
    "\n",
    "data_january = pd.read_csv('../data/finalizadas_2024-01.csv',sep=';')\n",
    "data_february = pd.read_csv('../data/finalizadas_2024-02.csv',sep=';')\n",
    "data_march= pd.read_csv('../data/finalizadas_2024-03.csv',sep=';')\n",
    "data_april = pd.read_csv('../data/finalizadas_2024-04.csv',sep=';')\n",
    "data_may = pd.read_csv('../data/finalizadas_2024-05.csv',sep=';')\n",
    "data_june = pd.read_csv('../data/finalizadas_2024-06.csv',sep=';')"
   ]
  },
  {
   "cell_type": "markdown",
   "metadata": {},
   "source": [
    "Como estão em arquivos diferentes, serão concatenados em uma única variável"
   ]
  },
  {
   "cell_type": "code",
   "execution_count": 45,
   "metadata": {},
   "outputs": [],
   "source": [
    "\n",
    "data = pd.concat([data_january, data_february, data_march, data_april,data_may, data_june], ignore_index=True)\n"
   ]
  },
  {
   "cell_type": "markdown",
   "metadata": {},
   "source": [
    "Agora, uma olhada no DataFrame para ter uma visão geral dos dados "
   ]
  },
  {
   "cell_type": "code",
   "execution_count": 46,
   "metadata": {},
   "outputs": [
    {
     "data": {
      "text/html": [
       "<div>\n",
       "<style scoped>\n",
       "    .dataframe tbody tr th:only-of-type {\n",
       "        vertical-align: middle;\n",
       "    }\n",
       "\n",
       "    .dataframe tbody tr th {\n",
       "        vertical-align: top;\n",
       "    }\n",
       "\n",
       "    .dataframe thead th {\n",
       "        text-align: right;\n",
       "    }\n",
       "</style>\n",
       "<table border=\"1\" class=\"dataframe\">\n",
       "  <thead>\n",
       "    <tr style=\"text-align: right;\">\n",
       "      <th></th>\n",
       "      <th>Região</th>\n",
       "      <th>UF</th>\n",
       "      <th>Cidade</th>\n",
       "      <th>Sexo</th>\n",
       "      <th>Faixa Etária</th>\n",
       "      <th>Data Finalização</th>\n",
       "      <th>Tempo Resposta</th>\n",
       "      <th>Nome Fantasia</th>\n",
       "      <th>Segmento de Mercado</th>\n",
       "      <th>Área</th>\n",
       "      <th>Assunto</th>\n",
       "      <th>Grupo Problema</th>\n",
       "      <th>Problema</th>\n",
       "      <th>Como Comprou Contratou</th>\n",
       "      <th>Procurou Empresa</th>\n",
       "      <th>Respondida</th>\n",
       "      <th>Situação</th>\n",
       "      <th>Avaliação Reclamação</th>\n",
       "      <th>Nota do Consumidor</th>\n",
       "    </tr>\n",
       "  </thead>\n",
       "  <tbody>\n",
       "    <tr>\n",
       "      <th>29093</th>\n",
       "      <td>SE</td>\n",
       "      <td>SP</td>\n",
       "      <td>São Bernardo do Campo</td>\n",
       "      <td>F</td>\n",
       "      <td>entre 51 a 60 anos</td>\n",
       "      <td>2024-01-12</td>\n",
       "      <td>9.0</td>\n",
       "      <td>Magazine Luiza - Loja Online</td>\n",
       "      <td>Comércio Eletrônico</td>\n",
       "      <td>Demais Produtos</td>\n",
       "      <td>Móveis e Colchões</td>\n",
       "      <td>Entrega do Produto</td>\n",
       "      <td>Não entrega / demora na entrega do produto</td>\n",
       "      <td>Internet</td>\n",
       "      <td>S</td>\n",
       "      <td>S</td>\n",
       "      <td>Finalizada não avaliada</td>\n",
       "      <td>Não Avaliada</td>\n",
       "      <td>NaN</td>\n",
       "    </tr>\n",
       "    <tr>\n",
       "      <th>137110</th>\n",
       "      <td>CO</td>\n",
       "      <td>DF</td>\n",
       "      <td>Brasília</td>\n",
       "      <td>F</td>\n",
       "      <td>entre 31 a 40 anos</td>\n",
       "      <td>2024-02-05</td>\n",
       "      <td>1.0</td>\n",
       "      <td>Hurb - Hotel Urbano</td>\n",
       "      <td>Viagens, Turismo e Hospedagem</td>\n",
       "      <td>Turismo/Viagens</td>\n",
       "      <td>Pacote / excursão / agência de turismo</td>\n",
       "      <td>Cobrança / Contestação</td>\n",
       "      <td>Dificuldade / atraso na devolução de valores p...</td>\n",
       "      <td>Internet</td>\n",
       "      <td>S</td>\n",
       "      <td>S</td>\n",
       "      <td>Finalizada não avaliada</td>\n",
       "      <td>Não Avaliada</td>\n",
       "      <td>NaN</td>\n",
       "    </tr>\n",
       "    <tr>\n",
       "      <th>265585</th>\n",
       "      <td>S</td>\n",
       "      <td>PR</td>\n",
       "      <td>Medianeira</td>\n",
       "      <td>M</td>\n",
       "      <td>entre 31 a 40 anos</td>\n",
       "      <td>2024-03-06</td>\n",
       "      <td>9.0</td>\n",
       "      <td>Tim</td>\n",
       "      <td>Operadoras de Telecomunicações (Telefonia, Int...</td>\n",
       "      <td>Telecomunicações</td>\n",
       "      <td>Pacote de Serviços ( Combo )</td>\n",
       "      <td>Vício de Qualidade</td>\n",
       "      <td>Dificuldade para alterar/ ativar serviços</td>\n",
       "      <td>Internet</td>\n",
       "      <td>N</td>\n",
       "      <td>S</td>\n",
       "      <td>Finalizada avaliada</td>\n",
       "      <td>Resolvida</td>\n",
       "      <td>5.0</td>\n",
       "    </tr>\n",
       "    <tr>\n",
       "      <th>172928</th>\n",
       "      <td>NE</td>\n",
       "      <td>BA</td>\n",
       "      <td>Salvador</td>\n",
       "      <td>M</td>\n",
       "      <td>entre 31 a 40 anos</td>\n",
       "      <td>2024-02-22</td>\n",
       "      <td>7.0</td>\n",
       "      <td>Mercado Livre</td>\n",
       "      <td>Empresas de Intermediação de Serviços / Negócios</td>\n",
       "      <td>Demais Produtos</td>\n",
       "      <td>Esporte/Lazer/Festa (equipamento de ginástica,...</td>\n",
       "      <td>Entrega do Produto</td>\n",
       "      <td>Não entrega / demora na entrega do produto</td>\n",
       "      <td>Internet</td>\n",
       "      <td>S</td>\n",
       "      <td>S</td>\n",
       "      <td>Finalizada não avaliada</td>\n",
       "      <td>Não Avaliada</td>\n",
       "      <td>NaN</td>\n",
       "    </tr>\n",
       "    <tr>\n",
       "      <th>106030</th>\n",
       "      <td>SE</td>\n",
       "      <td>ES</td>\n",
       "      <td>Cariacica</td>\n",
       "      <td>F</td>\n",
       "      <td>entre 21 a 30 anos</td>\n",
       "      <td>2024-01-31</td>\n",
       "      <td>10.0</td>\n",
       "      <td>Claro Celular</td>\n",
       "      <td>Operadoras de Telecomunicações (Telefonia, Int...</td>\n",
       "      <td>Telecomunicações</td>\n",
       "      <td>Internet Fixa</td>\n",
       "      <td>Cobrança / Contestação</td>\n",
       "      <td>Cobrança por serviço/produto não contratado / ...</td>\n",
       "      <td>Não comprei / contratei</td>\n",
       "      <td>S</td>\n",
       "      <td>S</td>\n",
       "      <td>Finalizada avaliada</td>\n",
       "      <td>Resolvida</td>\n",
       "      <td>5.0</td>\n",
       "    </tr>\n",
       "  </tbody>\n",
       "</table>\n",
       "</div>"
      ],
      "text/plain": [
       "       Região  UF                 Cidade Sexo        Faixa Etária  \\\n",
       "29093      SE  SP  São Bernardo do Campo    F  entre 51 a 60 anos   \n",
       "137110     CO  DF               Brasília    F  entre 31 a 40 anos   \n",
       "265585     S   PR             Medianeira    M  entre 31 a 40 anos   \n",
       "172928     NE  BA               Salvador    M  entre 31 a 40 anos   \n",
       "106030     SE  ES              Cariacica    F  entre 21 a 30 anos   \n",
       "\n",
       "       Data Finalização  Tempo Resposta                 Nome Fantasia  \\\n",
       "29093        2024-01-12             9.0  Magazine Luiza - Loja Online   \n",
       "137110       2024-02-05             1.0           Hurb - Hotel Urbano   \n",
       "265585       2024-03-06             9.0                           Tim   \n",
       "172928       2024-02-22             7.0                 Mercado Livre   \n",
       "106030       2024-01-31            10.0                 Claro Celular   \n",
       "\n",
       "                                      Segmento de Mercado              Área  \\\n",
       "29093                                 Comércio Eletrônico   Demais Produtos   \n",
       "137110                      Viagens, Turismo e Hospedagem   Turismo/Viagens   \n",
       "265585  Operadoras de Telecomunicações (Telefonia, Int...  Telecomunicações   \n",
       "172928   Empresas de Intermediação de Serviços / Negócios   Demais Produtos   \n",
       "106030  Operadoras de Telecomunicações (Telefonia, Int...  Telecomunicações   \n",
       "\n",
       "                                                  Assunto  \\\n",
       "29093                                   Móveis e Colchões   \n",
       "137110             Pacote / excursão / agência de turismo   \n",
       "265585                       Pacote de Serviços ( Combo )   \n",
       "172928  Esporte/Lazer/Festa (equipamento de ginástica,...   \n",
       "106030                                      Internet Fixa   \n",
       "\n",
       "                Grupo Problema  \\\n",
       "29093       Entrega do Produto   \n",
       "137110  Cobrança / Contestação   \n",
       "265585      Vício de Qualidade   \n",
       "172928      Entrega do Produto   \n",
       "106030  Cobrança / Contestação   \n",
       "\n",
       "                                                 Problema  \\\n",
       "29093          Não entrega / demora na entrega do produto   \n",
       "137110  Dificuldade / atraso na devolução de valores p...   \n",
       "265585          Dificuldade para alterar/ ativar serviços   \n",
       "172928         Não entrega / demora na entrega do produto   \n",
       "106030  Cobrança por serviço/produto não contratado / ...   \n",
       "\n",
       "         Como Comprou Contratou Procurou Empresa Respondida  \\\n",
       "29093                  Internet                S          S   \n",
       "137110                 Internet                S          S   \n",
       "265585                 Internet                N          S   \n",
       "172928                 Internet                S          S   \n",
       "106030  Não comprei / contratei                S          S   \n",
       "\n",
       "                       Situação Avaliação Reclamação  Nota do Consumidor  \n",
       "29093   Finalizada não avaliada         Não Avaliada                 NaN  \n",
       "137110  Finalizada não avaliada         Não Avaliada                 NaN  \n",
       "265585      Finalizada avaliada            Resolvida                 5.0  \n",
       "172928  Finalizada não avaliada         Não Avaliada                 NaN  \n",
       "106030      Finalizada avaliada            Resolvida                 5.0  "
      ]
     },
     "execution_count": 46,
     "metadata": {},
     "output_type": "execute_result"
    }
   ],
   "source": [
    "data.sample(5)"
   ]
  },
  {
   "cell_type": "code",
   "execution_count": 47,
   "metadata": {},
   "outputs": [
    {
     "data": {
      "text/plain": [
       "(571196, 19)"
      ]
     },
     "execution_count": 47,
     "metadata": {},
     "output_type": "execute_result"
    }
   ],
   "source": [
    "data.shape"
   ]
  },
  {
   "cell_type": "markdown",
   "metadata": {},
   "source": [
    "Há 571.196 linhas e o significado de cada uma das 19 colunas está descrita abaixo:\n",
    "\n",
    "\n",
    "- **Região**:\n",
    "  - Indica a região do Brasil onde o consumidor está localizado.\n",
    "  \n",
    "- **UF**:\n",
    "  - Sigla do estado da federação.\n",
    "\n",
    "- **Cidade**:\n",
    "  - Nome da cidade onde o consumidor está localizado.\n",
    "\n",
    "- **Sexo**:\n",
    "  - Sexo do consumidor (Masculino, feminino e Outros).\n",
    "\n",
    "- **Faixa Etária**:\n",
    "  - Faixa etária do consumidor, categorizada em intervalos de idade (até 20, entre 21 a 30, entre 31 a 40, entre 41 a 50, entre 51 a 60, entre 61 a 70, mais de 70).\n",
    "\n",
    "- **Data Finalização**:\n",
    "  - Data em que a reclamação foi finalizada.\n",
    "\n",
    "- **Tempo Resposta**:\n",
    "  - Tempo que a empresa levou para responder à reclamação, medido em dias.\n",
    "\n",
    "- **Nome Fantasia**:\n",
    "  - Nome comercial da empresa que recebeu a reclamação.\n",
    "\n",
    "- **Segmento de Mercado**:\n",
    "  - Setor ou indústria em que a empresa opera.\n",
    "\n",
    "- **Área**:\n",
    "  - Área específica do negócio da empresa à qual a reclamação se refere (e.g., Atendimento ao Cliente, Cobrança).\n",
    "\n",
    "- **Assunto**:\n",
    "  - Tema principal da reclamação feita pelo consumidor (e.g., Qualidade do Produto, Falta de Informação).\n",
    "\n",
    "- **Grupo Problema**:\n",
    "  - Categoria mais ampla do problema enfrentado pelo consumidor (e.g., Produto, Serviço, Atendimento).\n",
    "\n",
    "- **Problema**:\n",
    "  - Descrição mais específica do problema enfrentado pelo consumidor dentro do \"Grupo Problema\" (e.g., Produto com Defeito, Atraso na Entrega).\n",
    "\n",
    "- **Como Comprou/Contratou**:\n",
    "  - Indica como o consumidor adquiriu o produto ou serviço (e.g., Online, Loja Física).\n",
    "\n",
    "- **Procurou Empresa**:\n",
    "  - Indica se o consumidor tentou resolver o problema diretamente com a empresa antes de registrar a reclamação.\n",
    "\n",
    "- **Respondida**:\n",
    "  - Indica se a empresa respondeu à reclamação do consumidor.\n",
    "\n",
    "- **Situação**:\n",
    "  - Situação atual da reclamação, indicando se foi resolvida. \n",
    "\n",
    "- **Avaliação Reclamação**:\n",
    "  - Avaliação do consumidor sobre a resolução da reclamação, geralmente indicando satisfação ou insatisfação.\n",
    "\n",
    "- **Nota do Consumidor**:\n",
    "  - Nota dada pelo consumidor, geralmente em uma escala de 1 a 5, avaliando o atendimento e a resolução do problema.\n"
   ]
  },
  {
   "cell_type": "markdown",
   "metadata": {},
   "source": [
    "## Limpando e ajustando os dados"
   ]
  },
  {
   "cell_type": "markdown",
   "metadata": {},
   "source": [
    "Primeiro, daremos um overview nos tipos dos dados."
   ]
  },
  {
   "cell_type": "code",
   "execution_count": 48,
   "metadata": {},
   "outputs": [
    {
     "name": "stdout",
     "output_type": "stream",
     "text": [
      "<class 'pandas.core.frame.DataFrame'>\n",
      "RangeIndex: 571196 entries, 0 to 571195\n",
      "Data columns (total 19 columns):\n",
      " #   Column                  Non-Null Count   Dtype  \n",
      "---  ------                  --------------   -----  \n",
      " 0   Região                  571196 non-null  object \n",
      " 1   UF                      571196 non-null  object \n",
      " 2   Cidade                  571196 non-null  object \n",
      " 3   Sexo                    571188 non-null  object \n",
      " 4   Faixa Etária            571196 non-null  object \n",
      " 5   Data Finalização        571196 non-null  object \n",
      " 6   Tempo Resposta          558627 non-null  float64\n",
      " 7   Nome Fantasia           571196 non-null  object \n",
      " 8   Segmento de Mercado     571196 non-null  object \n",
      " 9   Área                    571196 non-null  object \n",
      " 10  Assunto                 571196 non-null  object \n",
      " 11  Grupo Problema          571196 non-null  object \n",
      " 12  Problema                571196 non-null  object \n",
      " 13  Como Comprou Contratou  571196 non-null  object \n",
      " 14  Procurou Empresa        571196 non-null  object \n",
      " 15  Respondida              571196 non-null  object \n",
      " 16  Situação                571196 non-null  object \n",
      " 17  Avaliação Reclamação    571194 non-null  object \n",
      " 18  Nota do Consumidor      285627 non-null  float64\n",
      "dtypes: float64(2), object(17)\n",
      "memory usage: 82.8+ MB\n"
     ]
    }
   ],
   "source": [
    "data.info()"
   ]
  },
  {
   "cell_type": "markdown",
   "metadata": {},
   "source": [
    "Depois disso, iremos verificar se há linhas duplicadas. "
   ]
  },
  {
   "cell_type": "code",
   "execution_count": 49,
   "metadata": {},
   "outputs": [
    {
     "data": {
      "text/plain": [
       "np.int64(1483)"
      ]
     },
     "execution_count": 49,
     "metadata": {},
     "output_type": "execute_result"
    }
   ],
   "source": [
    "data.duplicated().sum()"
   ]
  },
  {
   "cell_type": "markdown",
   "metadata": {},
   "source": [
    "Para que nossa análise não seja influenciada pelos registros duplicados, iremos excluí-los."
   ]
  },
  {
   "cell_type": "code",
   "execution_count": 50,
   "metadata": {},
   "outputs": [],
   "source": [
    "data = data.drop_duplicates()\n"
   ]
  },
  {
   "cell_type": "markdown",
   "metadata": {},
   "source": [
    "O código abaixo verifica se em cada coluna  há valores ausentes e, caso haja, soma-os. \n",
    "\n",
    "Com isso, observamos que as colunas ```Sexo, Tempo Resposta, Avaliação Reclamação e Nota do Consumidor``` possuem valores do tipo ```NaN```."
   ]
  },
  {
   "cell_type": "code",
   "execution_count": 51,
   "metadata": {},
   "outputs": [
    {
     "data": {
      "text/plain": [
       "Região                         0\n",
       "UF                             0\n",
       "Cidade                         0\n",
       "Sexo                           8\n",
       "Faixa Etária                   0\n",
       "Data Finalização               0\n",
       "Tempo Resposta             12529\n",
       "Nome Fantasia                  0\n",
       "Segmento de Mercado            0\n",
       "Área                           0\n",
       "Assunto                        0\n",
       "Grupo Problema                 0\n",
       "Problema                       0\n",
       "Como Comprou Contratou         0\n",
       "Procurou Empresa               0\n",
       "Respondida                     0\n",
       "Situação                       0\n",
       "Avaliação Reclamação           2\n",
       "Nota do Consumidor        284644\n",
       "dtype: int64"
      ]
     },
     "execution_count": 51,
     "metadata": {},
     "output_type": "execute_result"
    }
   ],
   "source": [
    "\n",
    "data.isnull().sum()"
   ]
  },
  {
   "cell_type": "markdown",
   "metadata": {},
   "source": [
    "Começaremos o tratamento dos dados ausentes pela coluna ```Sexo```. \n",
    "\n",
    "Para isso, identificaremos o valor que mais se repete nesta coluna e usaremos esse valor \n",
    "para preencher os dados faltantes.\n",
    "\n",
    "Optamos por essa abordagem porque apenas 8 valores serão adicionados, o que não afetará significativamente a consistência dos dados.\n"
   ]
  },
  {
   "cell_type": "code",
   "execution_count": 52,
   "metadata": {},
   "outputs": [
    {
     "data": {
      "text/plain": [
       "Sexo\n",
       "M    337448\n",
       "F    231853\n",
       "O       404\n",
       "Name: count, dtype: int64"
      ]
     },
     "execution_count": 52,
     "metadata": {},
     "output_type": "execute_result"
    }
   ],
   "source": [
    "data['Sexo'].value_counts()"
   ]
  },
  {
   "cell_type": "markdown",
   "metadata": {},
   "source": [
    "Como Masculino é sexo que possui a maior frequência, imputaremos ele. "
   ]
  },
  {
   "cell_type": "code",
   "execution_count": 53,
   "metadata": {},
   "outputs": [],
   "source": [
    "data['Sexo'] = data['Sexo'].fillna('M')"
   ]
  },
  {
   "cell_type": "markdown",
   "metadata": {},
   "source": [
    "Agora, olharemos para a coluna ```Avaliação Reclamação```.\n",
    "\n",
    "Antes disso, vejamos que ela assume 3 valores diferentes: Não avaliada, Não resolvida e Resolvida. "
   ]
  },
  {
   "cell_type": "code",
   "execution_count": 54,
   "metadata": {},
   "outputs": [
    {
     "data": {
      "text/plain": [
       "array(['Não Avaliada', 'Não Resolvida', 'Resolvida', nan], dtype=object)"
      ]
     },
     "execution_count": 54,
     "metadata": {},
     "output_type": "execute_result"
    }
   ],
   "source": [
    "data['Avaliação Reclamação'].unique()"
   ]
  },
  {
   "cell_type": "markdown",
   "metadata": {},
   "source": [
    "Com isso em mente, buscaremos apenas as duas linhas que não possuem registro nessa coluna."
   ]
  },
  {
   "cell_type": "code",
   "execution_count": 55,
   "metadata": {},
   "outputs": [
    {
     "data": {
      "text/html": [
       "<div>\n",
       "<style scoped>\n",
       "    .dataframe tbody tr th:only-of-type {\n",
       "        vertical-align: middle;\n",
       "    }\n",
       "\n",
       "    .dataframe tbody tr th {\n",
       "        vertical-align: top;\n",
       "    }\n",
       "\n",
       "    .dataframe thead th {\n",
       "        text-align: right;\n",
       "    }\n",
       "</style>\n",
       "<table border=\"1\" class=\"dataframe\">\n",
       "  <thead>\n",
       "    <tr style=\"text-align: right;\">\n",
       "      <th></th>\n",
       "      <th>Região</th>\n",
       "      <th>UF</th>\n",
       "      <th>Cidade</th>\n",
       "      <th>Sexo</th>\n",
       "      <th>Faixa Etária</th>\n",
       "      <th>Data Finalização</th>\n",
       "      <th>Tempo Resposta</th>\n",
       "      <th>Nome Fantasia</th>\n",
       "      <th>Segmento de Mercado</th>\n",
       "      <th>Área</th>\n",
       "      <th>Assunto</th>\n",
       "      <th>Grupo Problema</th>\n",
       "      <th>Problema</th>\n",
       "      <th>Como Comprou Contratou</th>\n",
       "      <th>Procurou Empresa</th>\n",
       "      <th>Respondida</th>\n",
       "      <th>Situação</th>\n",
       "      <th>Avaliação Reclamação</th>\n",
       "      <th>Nota do Consumidor</th>\n",
       "    </tr>\n",
       "  </thead>\n",
       "  <tbody>\n",
       "    <tr>\n",
       "      <th>75921</th>\n",
       "      <td>SE</td>\n",
       "      <td>RJ</td>\n",
       "      <td>Rio de Janeiro</td>\n",
       "      <td>M</td>\n",
       "      <td>entre 31 a 40 anos</td>\n",
       "      <td>2024-01-26</td>\n",
       "      <td>9.0</td>\n",
       "      <td>Gol Linhas Aéreas</td>\n",
       "      <td>Transporte Aéreo</td>\n",
       "      <td>Transportes</td>\n",
       "      <td>Aéreo</td>\n",
       "      <td>Contrato / Oferta</td>\n",
       "      <td>Oferta não cumprida / serviço não fornecido/ v...</td>\n",
       "      <td>Internet</td>\n",
       "      <td>S</td>\n",
       "      <td>S</td>\n",
       "      <td>Finalizada avaliada</td>\n",
       "      <td>NaN</td>\n",
       "      <td>1.0</td>\n",
       "    </tr>\n",
       "    <tr>\n",
       "      <th>485739</th>\n",
       "      <td>SE</td>\n",
       "      <td>MG</td>\n",
       "      <td>Belo Horizonte</td>\n",
       "      <td>F</td>\n",
       "      <td>entre 41 a 50 anos</td>\n",
       "      <td>2024-05-06</td>\n",
       "      <td>1.0</td>\n",
       "      <td>Latam Pass</td>\n",
       "      <td>Programas de Fidelidade</td>\n",
       "      <td>Transportes</td>\n",
       "      <td>Aéreo</td>\n",
       "      <td>Cobrança / Contestação</td>\n",
       "      <td>Dificuldade / atraso na devolução de valores p...</td>\n",
       "      <td>Internet</td>\n",
       "      <td>S</td>\n",
       "      <td>S</td>\n",
       "      <td>Finalizada avaliada</td>\n",
       "      <td>NaN</td>\n",
       "      <td>3.0</td>\n",
       "    </tr>\n",
       "  </tbody>\n",
       "</table>\n",
       "</div>"
      ],
      "text/plain": [
       "       Região  UF          Cidade Sexo        Faixa Etária Data Finalização  \\\n",
       "75921      SE  RJ  Rio de Janeiro    M  entre 31 a 40 anos       2024-01-26   \n",
       "485739     SE  MG  Belo Horizonte    F  entre 41 a 50 anos       2024-05-06   \n",
       "\n",
       "        Tempo Resposta      Nome Fantasia      Segmento de Mercado  \\\n",
       "75921              9.0  Gol Linhas Aéreas         Transporte Aéreo   \n",
       "485739             1.0         Latam Pass  Programas de Fidelidade   \n",
       "\n",
       "               Área Assunto          Grupo Problema  \\\n",
       "75921   Transportes   Aéreo       Contrato / Oferta   \n",
       "485739  Transportes   Aéreo  Cobrança / Contestação   \n",
       "\n",
       "                                                 Problema  \\\n",
       "75921   Oferta não cumprida / serviço não fornecido/ v...   \n",
       "485739  Dificuldade / atraso na devolução de valores p...   \n",
       "\n",
       "       Como Comprou Contratou Procurou Empresa Respondida  \\\n",
       "75921                Internet                S          S   \n",
       "485739               Internet                S          S   \n",
       "\n",
       "                   Situação Avaliação Reclamação  Nota do Consumidor  \n",
       "75921   Finalizada avaliada                  NaN                 1.0  \n",
       "485739  Finalizada avaliada                  NaN                 3.0  "
      ]
     },
     "execution_count": 55,
     "metadata": {},
     "output_type": "execute_result"
    }
   ],
   "source": [
    "missing_reviews =  data[data['Avaliação Reclamação'].isnull()]\n",
    "missing_reviews"
   ]
  },
  {
   "cell_type": "markdown",
   "metadata": {},
   "source": [
    "Aqui, vemos que há uma inconsistência porque em ambos registros as colunas ```Situação```e ```Nota Consumidor``` estão preenchidos, o que mostra que essas reclamações foram avaliadas, mas o valor da coluna ``Avaliação`` foi perdido. \n",
    "\n",
    "Para contornar isso, optamos por preencher essas lacunas usando como critério o valor de maior ocorrência das empresas **Gol Linhas Aéreas e Latam Pass**, a quem pertence os registros incompletos. \n"
   ]
  },
  {
   "cell_type": "code",
   "execution_count": 56,
   "metadata": {},
   "outputs": [
    {
     "name": "stdout",
     "output_type": "stream",
     "text": [
      "\n",
      "    Avaliações da empresa: Gol Linhas Aéreas\n",
      "\n",
      "    Avaliação Reclamação\n",
      "Resolvida        4104\n",
      "Não Avaliada     3856\n",
      "Não Resolvida    1138\n",
      "Name: count, dtype: int64\n",
      "    \n",
      "\n",
      "    Avaliações da empresa: Latam Pass\n",
      "\n",
      "    Avaliação Reclamação\n",
      "Não Avaliada     1416\n",
      "Resolvida        1380\n",
      "Não Resolvida     811\n",
      "Name: count, dtype: int64\n",
      "    \n"
     ]
    }
   ],
   "source": [
    "companies = ['Gol Linhas Aéreas', 'Latam Pass']\n",
    "\n",
    "for company in companies:\n",
    "\n",
    "    company_data = data[data['Nome Fantasia'] == f'{company}']\n",
    "    company_reviews = company_data['Avaliação Reclamação'].value_counts()\n",
    "    \n",
    "    template = f\"\"\"\n",
    "    Avaliações da empresa: {company}\n",
    "\n",
    "    {company_reviews}\n",
    "    \"\"\"\n",
    "    print(template)"
   ]
  },
  {
   "cell_type": "markdown",
   "metadata": {},
   "source": [
    "\n",
    "```Resolvida``` é o status que mais ocorre na empresa **Gol**, enquanto na **Latam** é o ```Não Avaliada```, mas não usaremos esse valor, porque como vimos antes, as duas reclamações foram avaliadas. Por isso, imputaremos ```Resolvida``` nos dois registros. \n"
   ]
  },
  {
   "cell_type": "code",
   "execution_count": 57,
   "metadata": {},
   "outputs": [],
   "source": [
    "data['Avaliação Reclamação'] = data['Avaliação Reclamação'].fillna('Resolvida')"
   ]
  },
  {
   "cell_type": "markdown",
   "metadata": {},
   "source": [
    "A ausência de valores nas colunas ``` Tempo Resposta```  e ```Nota do Consumidor``` são informações valiosas. \n",
    "\n",
    "Na coluna ``` Tempo Resposta``` significa que a empresa não respondeu a reclamação, por isso não há tempo de resposta. \n",
    "\n",
    "O código abaixo, mostra a relação entre os valores nulos da coluna e as reclamações que não foram respondidas. \n"
   ]
  },
  {
   "cell_type": "code",
   "execution_count": 58,
   "metadata": {},
   "outputs": [
    {
     "name": "stdout",
     "output_type": "stream",
     "text": [
      "Número de casos onde 'Tempo Resposta' está nulo e 'Respondida' é 'Não': 12529\n"
     ]
    }
   ],
   "source": [
    "\n",
    "na_response = data[(data['Tempo Resposta'].isna()) & (data['Respondida'] == 'N')].shape[0]\n",
    "print(f\"Número de casos onde 'Tempo Resposta' está nulo e 'Respondida' é 'Não': {na_response}\")\n"
   ]
  },
  {
   "cell_type": "markdown",
   "metadata": {},
   "source": [
    "Já na coluna ```Nota do Consumidor``` , os registros com valores ausentes ssão os que não foram avaliados pelos consumidores. Como não houve avaliação, não há nota. \n",
    "\n",
    "Por conta disso, os dados faltantes das colunas ``` Tempo Resposta```  e ```Nota do Consumidor``` serão mantidos, porque eles significam que a empresa não respondeu publicamente a reclamação e o consumidor não avaliou a manifestação, respectivamente."
   ]
  },
  {
   "cell_type": "code",
   "execution_count": 59,
   "metadata": {},
   "outputs": [
    {
     "data": {
      "text/html": [
       "<div>\n",
       "<style scoped>\n",
       "    .dataframe tbody tr th:only-of-type {\n",
       "        vertical-align: middle;\n",
       "    }\n",
       "\n",
       "    .dataframe tbody tr th {\n",
       "        vertical-align: top;\n",
       "    }\n",
       "\n",
       "    .dataframe thead th {\n",
       "        text-align: right;\n",
       "    }\n",
       "</style>\n",
       "<table border=\"1\" class=\"dataframe\">\n",
       "  <thead>\n",
       "    <tr style=\"text-align: right;\">\n",
       "      <th></th>\n",
       "      <th>Região</th>\n",
       "      <th>UF</th>\n",
       "      <th>Cidade</th>\n",
       "      <th>Sexo</th>\n",
       "      <th>Faixa Etária</th>\n",
       "      <th>Data Finalização</th>\n",
       "      <th>Tempo Resposta</th>\n",
       "      <th>Nome Fantasia</th>\n",
       "      <th>Segmento de Mercado</th>\n",
       "      <th>Área</th>\n",
       "      <th>Assunto</th>\n",
       "      <th>Grupo Problema</th>\n",
       "      <th>Problema</th>\n",
       "      <th>Como Comprou Contratou</th>\n",
       "      <th>Procurou Empresa</th>\n",
       "      <th>Respondida</th>\n",
       "      <th>Situação</th>\n",
       "      <th>Avaliação Reclamação</th>\n",
       "      <th>Nota do Consumidor</th>\n",
       "    </tr>\n",
       "  </thead>\n",
       "  <tbody>\n",
       "    <tr>\n",
       "      <th>470364</th>\n",
       "      <td>SE</td>\n",
       "      <td>RJ</td>\n",
       "      <td>Barra Mansa</td>\n",
       "      <td>F</td>\n",
       "      <td>entre 21 a 30 anos</td>\n",
       "      <td>2024-05-10</td>\n",
       "      <td>10.0</td>\n",
       "      <td>SulAmérica Saúde</td>\n",
       "      <td>Operadoras de Planos de Saúde e Administradora...</td>\n",
       "      <td>Saúde</td>\n",
       "      <td>Plano de Saúde (convênio, autogestão, seguro s...</td>\n",
       "      <td>Cobrança / Contestação</td>\n",
       "      <td>Dificuldade / atraso na devolução de valores p...</td>\n",
       "      <td>Internet</td>\n",
       "      <td>S</td>\n",
       "      <td>S</td>\n",
       "      <td>Finalizada não avaliada</td>\n",
       "      <td>Não Avaliada</td>\n",
       "      <td>NaN</td>\n",
       "    </tr>\n",
       "    <tr>\n",
       "      <th>324123</th>\n",
       "      <td>S</td>\n",
       "      <td>PR</td>\n",
       "      <td>Saudade do Iguaçu</td>\n",
       "      <td>F</td>\n",
       "      <td>entre 21 a 30 anos</td>\n",
       "      <td>2024-03-22</td>\n",
       "      <td>9.0</td>\n",
       "      <td>C6 Bank</td>\n",
       "      <td>Bancos, Financeiras e Administradoras de Cartão</td>\n",
       "      <td>Serviços Financeiros</td>\n",
       "      <td>Conta corrente / Salário / Poupança /Conta Apo...</td>\n",
       "      <td>Contrato / Oferta</td>\n",
       "      <td>Dificuldade para rescindir o contrato / cancel...</td>\n",
       "      <td>Telefone</td>\n",
       "      <td>S</td>\n",
       "      <td>S</td>\n",
       "      <td>Finalizada avaliada</td>\n",
       "      <td>Não Resolvida</td>\n",
       "      <td>5.0</td>\n",
       "    </tr>\n",
       "    <tr>\n",
       "      <th>433868</th>\n",
       "      <td>SE</td>\n",
       "      <td>RJ</td>\n",
       "      <td>Rio de Janeiro</td>\n",
       "      <td>F</td>\n",
       "      <td>entre 41 a 50 anos</td>\n",
       "      <td>2024-04-22</td>\n",
       "      <td>5.0</td>\n",
       "      <td>Claro Celular</td>\n",
       "      <td>Operadoras de Telecomunicações (Telefonia, Int...</td>\n",
       "      <td>Telecomunicações</td>\n",
       "      <td>Internet Móvel</td>\n",
       "      <td>Cobrança / Contestação</td>\n",
       "      <td>Cobrança por serviço/produto não contratado / ...</td>\n",
       "      <td>Não comprei / contratei</td>\n",
       "      <td>N</td>\n",
       "      <td>S</td>\n",
       "      <td>Finalizada avaliada</td>\n",
       "      <td>Não Resolvida</td>\n",
       "      <td>1.0</td>\n",
       "    </tr>\n",
       "    <tr>\n",
       "      <th>122452</th>\n",
       "      <td>SE</td>\n",
       "      <td>RJ</td>\n",
       "      <td>Nova Friburgo</td>\n",
       "      <td>M</td>\n",
       "      <td>entre 31 a 40 anos</td>\n",
       "      <td>2024-02-02</td>\n",
       "      <td>4.0</td>\n",
       "      <td>Tudo Azul</td>\n",
       "      <td>Programas de Fidelidade</td>\n",
       "      <td>Transportes</td>\n",
       "      <td>Aéreo</td>\n",
       "      <td>Contrato / Oferta</td>\n",
       "      <td>Oferta não cumprida / serviço não fornecido/ v...</td>\n",
       "      <td>Internet</td>\n",
       "      <td>S</td>\n",
       "      <td>S</td>\n",
       "      <td>Finalizada não avaliada</td>\n",
       "      <td>Não Avaliada</td>\n",
       "      <td>NaN</td>\n",
       "    </tr>\n",
       "    <tr>\n",
       "      <th>238289</th>\n",
       "      <td>SE</td>\n",
       "      <td>SP</td>\n",
       "      <td>São Paulo</td>\n",
       "      <td>M</td>\n",
       "      <td>entre 41 a 50 anos</td>\n",
       "      <td>2024-03-08</td>\n",
       "      <td>8.0</td>\n",
       "      <td>Samsung - Loja Online</td>\n",
       "      <td>Comércio Eletrônico</td>\n",
       "      <td>Produtos de Telefonia e Informática</td>\n",
       "      <td>Tablet</td>\n",
       "      <td>Entrega do Produto</td>\n",
       "      <td>Produto entregue incompleto / diferente do  pe...</td>\n",
       "      <td>Internet</td>\n",
       "      <td>S</td>\n",
       "      <td>S</td>\n",
       "      <td>Finalizada não avaliada</td>\n",
       "      <td>Não Avaliada</td>\n",
       "      <td>NaN</td>\n",
       "    </tr>\n",
       "  </tbody>\n",
       "</table>\n",
       "</div>"
      ],
      "text/plain": [
       "       Região  UF             Cidade Sexo        Faixa Etária  \\\n",
       "470364     SE  RJ        Barra Mansa    F  entre 21 a 30 anos   \n",
       "324123     S   PR  Saudade do Iguaçu    F  entre 21 a 30 anos   \n",
       "433868     SE  RJ     Rio de Janeiro    F  entre 41 a 50 anos   \n",
       "122452     SE  RJ      Nova Friburgo    M  entre 31 a 40 anos   \n",
       "238289     SE  SP          São Paulo    M  entre 41 a 50 anos   \n",
       "\n",
       "       Data Finalização  Tempo Resposta          Nome Fantasia  \\\n",
       "470364       2024-05-10            10.0       SulAmérica Saúde   \n",
       "324123       2024-03-22             9.0                C6 Bank   \n",
       "433868       2024-04-22             5.0          Claro Celular   \n",
       "122452       2024-02-02             4.0              Tudo Azul   \n",
       "238289       2024-03-08             8.0  Samsung - Loja Online   \n",
       "\n",
       "                                      Segmento de Mercado  \\\n",
       "470364  Operadoras de Planos de Saúde e Administradora...   \n",
       "324123    Bancos, Financeiras e Administradoras de Cartão   \n",
       "433868  Operadoras de Telecomunicações (Telefonia, Int...   \n",
       "122452                            Programas de Fidelidade   \n",
       "238289                                Comércio Eletrônico   \n",
       "\n",
       "                                       Área  \\\n",
       "470364                                Saúde   \n",
       "324123                 Serviços Financeiros   \n",
       "433868                     Telecomunicações   \n",
       "122452                          Transportes   \n",
       "238289  Produtos de Telefonia e Informática   \n",
       "\n",
       "                                                  Assunto  \\\n",
       "470364  Plano de Saúde (convênio, autogestão, seguro s...   \n",
       "324123  Conta corrente / Salário / Poupança /Conta Apo...   \n",
       "433868                                     Internet Móvel   \n",
       "122452                                              Aéreo   \n",
       "238289                                             Tablet   \n",
       "\n",
       "                Grupo Problema  \\\n",
       "470364  Cobrança / Contestação   \n",
       "324123       Contrato / Oferta   \n",
       "433868  Cobrança / Contestação   \n",
       "122452       Contrato / Oferta   \n",
       "238289      Entrega do Produto   \n",
       "\n",
       "                                                 Problema  \\\n",
       "470364  Dificuldade / atraso na devolução de valores p...   \n",
       "324123  Dificuldade para rescindir o contrato / cancel...   \n",
       "433868  Cobrança por serviço/produto não contratado / ...   \n",
       "122452  Oferta não cumprida / serviço não fornecido/ v...   \n",
       "238289  Produto entregue incompleto / diferente do  pe...   \n",
       "\n",
       "         Como Comprou Contratou Procurou Empresa Respondida  \\\n",
       "470364                 Internet                S          S   \n",
       "324123                 Telefone                S          S   \n",
       "433868  Não comprei / contratei                N          S   \n",
       "122452                 Internet                S          S   \n",
       "238289                 Internet                S          S   \n",
       "\n",
       "                       Situação Avaliação Reclamação  Nota do Consumidor  \n",
       "470364  Finalizada não avaliada         Não Avaliada                 NaN  \n",
       "324123      Finalizada avaliada        Não Resolvida                 5.0  \n",
       "433868      Finalizada avaliada        Não Resolvida                 1.0  \n",
       "122452  Finalizada não avaliada         Não Avaliada                 NaN  \n",
       "238289  Finalizada não avaliada         Não Avaliada                 NaN  "
      ]
     },
     "execution_count": 59,
     "metadata": {},
     "output_type": "execute_result"
    }
   ],
   "source": [
    "data.sample(5)"
   ]
  },
  {
   "cell_type": "markdown",
   "metadata": {},
   "source": [
    "## Salvando o novo dataset\n",
    "\n",
    "Antes de salvarmos o dataset, iremos excluir as colunas ```Área```, ```Assunto```, ``` Grupo Problema``` e ``` Problema```, pois não as useremos na análise. "
   ]
  },
  {
   "cell_type": "code",
   "execution_count": 60,
   "metadata": {},
   "outputs": [],
   "source": [
    "data_complaints = data.drop(['Área','Assunto','Grupo Problema','Problema'], axis=1)\n"
   ]
  },
  {
   "cell_type": "markdown",
   "metadata": {},
   "source": [
    "Feito isso, exportamos os dados em um novo arquivo csv."
   ]
  },
  {
   "cell_type": "code",
   "execution_count": 62,
   "metadata": {},
   "outputs": [],
   "source": [
    "data_complaints.to_csv('../data/dados_consumidor_gov_semestral.csv', index=False)"
   ]
  }
 ],
 "metadata": {
  "kernelspec": {
   "display_name": "Python 3",
   "language": "python",
   "name": "python3"
  },
  "language_info": {
   "codemirror_mode": {
    "name": "ipython",
    "version": 3
   },
   "file_extension": ".py",
   "mimetype": "text/x-python",
   "name": "python",
   "nbconvert_exporter": "python",
   "pygments_lexer": "ipython3",
   "version": "3.10.12"
  }
 },
 "nbformat": 4,
 "nbformat_minor": 2
}
